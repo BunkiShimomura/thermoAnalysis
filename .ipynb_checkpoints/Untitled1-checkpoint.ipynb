{
 "cells": [
  {
   "cell_type": "code",
   "execution_count": 10,
   "metadata": {},
   "outputs": [
    {
     "ename": "SyntaxError",
     "evalue": "invalid syntax (<ipython-input-10-2daecb36f67b>, line 50)",
     "output_type": "error",
     "traceback": [
      "\u001b[0;36m  File \u001b[0;32m\"<ipython-input-10-2daecb36f67b>\"\u001b[0;36m, line \u001b[0;32m50\u001b[0m\n\u001b[0;31m    kernel = np.ones((5,5), dtype = np.uint8) #かっこの数字が大きいほど大きいノイズが除去される。\u001b[0m\n\u001b[0m         ^\u001b[0m\n\u001b[0;31mSyntaxError\u001b[0m\u001b[0;31m:\u001b[0m invalid syntax\n"
     ]
    }
   ],
   "source": [
    "import cv2\n",
    "import numpy as np\n",
    "import matplotlib.pyplot as plt\n",
    "filenameIMG = 'IMG_5136' #IMGの画像\n",
    "filenameIR = 'IR_6854' #IRの画像\n",
    "\n",
    "imgIMG = cv2.imread(filenameIMG+'.jpg')\n",
    "\n",
    "# 画像の座標上から4角を切り出す\n",
    "pts1_IMG = np.float32([[831.552, 502.136],  [2734.02, 498.435], [864.864, 2360.19],  [2715.51, 2378.69]]) #pts1 = np.float32([[左上の座標],[右上の座標],[左下の座標],[右下の座標]]) #step0で抽出したのを入れる\n",
    "pts2_IMG = np.float32([[0,0],[600,0],[0,520],[600,520]]) #resize\n",
    "\n",
    "# 透視変換の行列を求める\n",
    "M_IMG = cv2.getPerspectiveTransform(pts1_IMG,pts2_IMG)\n",
    "\n",
    "# 変換行列を用いて画像の透視変換\n",
    "rstIMG = cv2.warpPerspective(imgIMG,M_IMG,(600,520))\n",
    "# 透視変換後の画像を保存\n",
    "cv2.imwrite(filenameIMG+'_henkango.png',rstIMG)\n",
    "\n",
    "imgIR = cv2.imread(filenameIR+'.jpg')\n",
    "\n",
    "# 画像の座標上から4角を切り出す\n",
    "pts1_IR = np.float32([[126.643, 96.1234], [466.903, 101.318], [123.396, 440.279], [471.448, 448.721]]) #pts1 = np.float32([[左上の座標],[右上の座標],[左下の座標],[右下の座標]])\n",
    "pts2_IR = np.float32([[0,0],[600,0],[0,520],[600,520]]) #resize\n",
    "\n",
    "# 透視変換の行列を求める\n",
    "M_IR = cv2.getPerspectiveTransform(pts1_IR,pts2_IR)\n",
    "\n",
    "# 変換行列を用いて画像の透視変換\n",
    "rst = cv2.warpPerspective(imgIR,M_IR,(600,520))\n",
    "# 透視変換後の画像を保存\n",
    "cv2.imwrite(filenameIR+'_henkango.png',rst)\n",
    "\n",
    "%matplotlib inline\n",
    "#filenameIMG = 'IMG_0918_pot22_henkango'\n",
    "#filenameIR = 'IR_6082_pot22_gray_henkango'\n",
    "#im = cv2.imread(filenameIMG+\".png\") #緑＋土の画像 デジカメ撮影\n",
    "hsv = cv2.cvtColor(rstIMG, cv2.COLOR_BGR2HSV)\n",
    "hsv_gaus = cv2.GaussianBlur(hsv, (3,3),0)\n",
    "hsv_min = np.array([30, 80, 60])\n",
    "hsv_max = np.array([255, 255, 255])\n",
    "mask = cv2.inRange(hsv_gaus, hsv_min,  hsv_max)\n",
    "im_list = np.asarray(mask)\n",
    "plt.imshow(im_list)\n",
    "plt.show()\n",
    "print(\"type is \" + str(type(im_list))\n",
    "#cv2.imwrite('color1_mask.png',im_list)#緑のみ ノイズあり\n",
    "      \n",
    "kernel = np.ones((5,5),np.uint8) #かっこの数字が大きいほど大きいノイズが除去される。\n",
    "result = cv2.morphologyEx(im_list, cv2.MORPH_OPEN, kernel)\n",
    "plt.imshow(result)\n",
    "plt.show()\n",
    "cv2.imwrite(filenameIMG+'_mask_minusNoize.png',result) #緑のみでノイズがなくなった画像 これがフィルター的な画像となる\n",
    "\n",
    "from PIL import Image, ImageDraw, ImageFilter\n",
    "im_rgb = Image.open(filenameIMG+'_henkango.png')#緑＋土の画像 デジカメ撮影\n",
    "im_a = Image.open(filenameIMG+'_mask_minusNoize.png').convert('L')#緑のみでノイズがなくなった画像\n",
    "im_rgba = im_rgb.copy()\n",
    "im_rgba.putalpha(im_a)\n",
    "im_rgba.save(filenameIMG+'_mask_minusNoize_alpha.png') #アラビのみの部分が切り出され他は透明になった画像\n",
    "\n",
    "im_rgb = Image.open(filenameIR+'_henkango.png')#IRの画像\n",
    "#im_a = Image.open('IMG_0944_pot33_henkango_mask_minusNoize.png').convert('L') #緑のみでノイズがなくなった画像 これがフィルター的な画像となる\n",
    "im_rgb_c = im_rgb.copy()\n",
    "im_rgb_c.putalpha(im_a)\n",
    "im_rgb_c.save(filenameIR+'_alpha.png') #IR画像からアラビのみが切り出された他は透明になった画像\n"
   ]
  },
  {
   "cell_type": "code",
   "execution_count": null,
   "metadata": {},
   "outputs": [],
   "source": []
  }
 ],
 "metadata": {
  "kernelspec": {
   "display_name": "Python 3",
   "language": "python",
   "name": "python3"
  },
  "language_info": {
   "codemirror_mode": {
    "name": "ipython",
    "version": 3
   },
   "file_extension": ".py",
   "mimetype": "text/x-python",
   "name": "python",
   "nbconvert_exporter": "python",
   "pygments_lexer": "ipython3",
   "version": "3.6.3"
  }
 },
 "nbformat": 4,
 "nbformat_minor": 2
}
